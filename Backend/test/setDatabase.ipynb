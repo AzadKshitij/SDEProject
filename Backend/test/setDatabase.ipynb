{
 "cells": [
  {
   "cell_type": "code",
   "execution_count": 1,
   "metadata": {},
   "outputs": [],
   "source": [
    "import requests\n"
   ]
  },
  {
   "cell_type": "code",
   "execution_count": 12,
   "metadata": {},
   "outputs": [
    {
     "name": "stdout",
     "output_type": "stream",
     "text": [
      "======= Signup =======\n",
      "{\n",
      "  \"_id\": \"sanodariya.1@iitj.ac.in\",\n",
      "  \"bio\": \"I'm Sanodariya Kshitij\",\n",
      "  \"image\": \"https://upload.wikimedia.org/wikipedia/commons/b/b6/Image_created_with_a_mobile_phone.png\",\n",
      "  \"joined\": {\n",
      "    \"$date\": \"2022-10-05T09:10:41.898Z\"\n",
      "  },\n",
      "  \"name\": \"Sanodariya\"\n",
      "}\n",
      "\n",
      "======= Signup End =======\n"
     ]
    }
   ],
   "source": [
    "# Signup\n",
    "url = \"http://127.0.0.1:5000/user/login/sanodariya.1@iitj.ac.in\"\n",
    "\n",
    "payload = {\n",
    "    \"name\": \"Sanodariya\",\n",
    "    \"email\": \"sanodariya.1@iitj.ac.in\",\n",
    "    \"bio\": \"I'm Sanodariya Kshitij\",\n",
    "    \"image\": \"https://upload.wikimedia.org/wikipedia/commons/b/b6/Image_created_with_a_mobile_phone.png\",\n",
    "}\n",
    "response = requests.request(\"POST\", url, json=payload)\n",
    "\n",
    "print(\"======= Signup =======\")\n",
    "print(response.text)\n",
    "print(\"======= Signup End =======\")"
   ]
  },
  {
   "cell_type": "code",
   "execution_count": 5,
   "metadata": {},
   "outputs": [
    {
     "name": "stdout",
     "output_type": "stream",
     "text": [
      "======= Signup =======\n",
      "{\n",
      "  \"message\": \"Notification sent successfully\"\n",
      "}\n",
      "\n",
      "======= Signup End =======\n"
     ]
    }
   ],
   "source": [
    "# Send Notification\n",
    "\n",
    "url = \"http://127.0.0.1:5000/notifications/send\"\n",
    "\n",
    "payload = {\n",
    "    \"content\": \"Sanodariya\",\n",
    "    \"email\": \"sanodariya.1@iitj.ac.in\",\n",
    "}\n",
    "response = requests.request(\"POST\", url, json=payload)\n",
    "\n",
    "\n",
    "print(\"======= Signup =======\")\n",
    "print(response.text)\n",
    "print(\"======= Signup End =======\")\n"
   ]
  },
  {
   "cell_type": "code",
   "execution_count": 6,
   "metadata": {},
   "outputs": [
    {
     "name": "stdout",
     "output_type": "stream",
     "text": [
      "======= Set Notification =======\n",
      "{\n",
      "  \"message\": \"Notifications set to read successfully\"\n",
      "}\n",
      "\n",
      "======= Set Notification End =======\n"
     ]
    }
   ],
   "source": [
    "\n",
    "# Set Notification\n",
    "\n",
    "url = \"http://127.0.0.1:5000/notifications/set\"\n",
    "\n",
    "payload = {\n",
    "    \"email\": \"sanodariya.1@iitj.ac.in\",\n",
    "}\n",
    "response = requests.request(\"POST\", url, json=payload)\n",
    "\n",
    "print(\"======= Set Notification =======\")\n",
    "print(response.text)\n",
    "print(\"======= Set Notification End =======\")\n"
   ]
  },
  {
   "cell_type": "code",
   "execution_count": 7,
   "metadata": {},
   "outputs": [
    {
     "name": "stdout",
     "output_type": "stream",
     "text": [
      "======= All Notifications =======\n",
      "[[\"id\", \"content\", \"user_id\", \"isRead\", \"createdAt\"], [\"id\", \"content\", \"user_id\", \"isRead\", \"createdAt\"], [\"id\", \"content\", \"user_id\", \"isRead\", \"createdAt\"], [\"id\", \"content\", \"user_id\", \"isRead\", \"createdAt\"], [\"id\", \"content\", \"user_id\", \"isRead\", \"createdAt\"]]\n",
      "======= All Notifications End =======\n"
     ]
    }
   ],
   "source": [
    "# Get All Notifications\n",
    "\n",
    "url = \"http://127.0.0.1:5000/notifications/get/sanodariya.1@iitj.ac.in\"\n",
    "\n",
    "payload = {}\n",
    "response = requests.request(\"GET\", url, json=payload)\n",
    "print(\"======= All Notifications =======\")\n",
    "print(response.text)\n",
    "print(\"======= All Notifications End =======\")"
   ]
  }
 ],
 "metadata": {
  "kernelspec": {
   "display_name": "Python 3.10.6 64-bit",
   "language": "python",
   "name": "python3"
  },
  "language_info": {
   "codemirror_mode": {
    "name": "ipython",
    "version": 3
   },
   "file_extension": ".py",
   "mimetype": "text/x-python",
   "name": "python",
   "nbconvert_exporter": "python",
   "pygments_lexer": "ipython3",
   "version": "3.10.6"
  },
  "orig_nbformat": 4,
  "vscode": {
   "interpreter": {
    "hash": "0cd346d8360ec5903b74f0961cde6a61e1013ff9594a9e3210be6a21bf69c694"
   }
  }
 },
 "nbformat": 4,
 "nbformat_minor": 2
}
